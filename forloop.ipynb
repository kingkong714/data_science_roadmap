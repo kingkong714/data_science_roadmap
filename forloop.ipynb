{
 "cells": [
  {
   "cell_type": "code",
   "execution_count": 5,
   "id": "18b12305-56e6-45bf-9b22-4547aacc24b5",
   "metadata": {},
   "outputs": [
    {
     "name": "stdout",
     "output_type": "stream",
     "text": [
      "1\n",
      "2\n",
      "3\n",
      "4\n",
      "5\n"
     ]
    }
   ],
   "source": [
    "#for loop ကို \n",
    "#1.data cleaning (row တစ်ခုချင်းပြန်ပြီး nullရှာခြင်း)\n",
    "#2.feature engineering(column တစ်ခုချင်းmodify)\n",
    "#3.file reading(line by line read)\n",
    "#4.visualization loop(chart တစ်ခုချင်းပြ)"
   ]
  },
  {
   "cell_type": "code",
   "execution_count": 14,
   "id": "7ce04240-d017-43ff-8c2e-a79e2e50da6e",
   "metadata": {},
   "outputs": [
    {
     "name": "stdout",
     "output_type": "stream",
     "text": [
      "1\n",
      "2\n",
      "3\n",
      "4\n",
      "5\n"
     ]
    }
   ],
   "source": [
    "for i in range(1,6):\n",
    "    print(i)"
   ]
  },
  {
   "cell_type": "code",
   "execution_count": 9,
   "id": "de97a75a-4c18-4e87-a1b3-106546d8f803",
   "metadata": {},
   "outputs": [
    {
     "name": "stdout",
     "output_type": "stream",
     "text": [
      "I like apple\n",
      "I like banana\n",
      "I like orange\n"
     ]
    }
   ],
   "source": [
    "#list\n",
    "fruits = [\"apple\", \"banana\", \"orange\"]\n",
    "for fruit in fruits:\n",
    "    print(\"I like\",fruit)"
   ]
  },
  {
   "cell_type": "code",
   "execution_count": 10,
   "id": "843ce939-5d12-4ce7-ad4a-3ee7e850491f",
   "metadata": {},
   "outputs": [
    {
     "name": "stdout",
     "output_type": "stream",
     "text": [
      "k\n",
      "i\n",
      "n\n",
      "g\n",
      "k\n",
      "o\n",
      "n\n",
      "g\n"
     ]
    }
   ],
   "source": [
    "#string\n",
    "\n",
    "for i in \"kingkong\":\n",
    "    print(i)"
   ]
  },
  {
   "cell_type": "code",
   "execution_count": 13,
   "id": "e99ad3c7-e9d6-44e0-8917-284f78d0dea3",
   "metadata": {},
   "outputs": [
    {
     "name": "stdout",
     "output_type": "stream",
     "text": [
      "1 square is 1\n",
      "2 square is 4\n",
      "3 square is 9\n",
      "4 square is 16\n",
      "5 square is 25\n",
      "6 square is 36\n",
      "7 square is 49\n",
      "8 square is 64\n",
      "9 square is 81\n"
     ]
    }
   ],
   "source": [
    "for num in range(1,10):\n",
    "    print(num,\"square is\",num**2)"
   ]
  },
  {
   "cell_type": "code",
   "execution_count": 16,
   "id": "c6d074c9-2ce1-4536-a62d-bfca5c7eaf05",
   "metadata": {},
   "outputs": [
    {
     "name": "stdout",
     "output_type": "stream",
     "text": [
      "1\n",
      "4\n",
      "7\n"
     ]
    }
   ],
   "source": [
    "#range start,stop,step\n",
    "\n",
    "for i in range(1,10,3):\n",
    "    print(i)"
   ]
  },
  {
   "cell_type": "code",
   "execution_count": 17,
   "id": "63f71dcd-1fe4-4f38-a8cc-9feb4a0885ea",
   "metadata": {},
   "outputs": [
    {
     "name": "stdout",
     "output_type": "stream",
     "text": [
      "1 * 1 = 1\n",
      "1 * 2 = 2\n",
      "1 * 3 = 3\n",
      "2 * 1 = 2\n",
      "2 * 2 = 4\n",
      "2 * 3 = 6\n"
     ]
    }
   ],
   "source": [
    "#nested loop\n",
    "\n",
    "for i in range(1,3):\n",
    "    for j in range(1,4):\n",
    "        print(i,\"*\",j,\"=\",i*j)"
   ]
  },
  {
   "cell_type": "code",
   "execution_count": 19,
   "id": "eb46344d-9699-42e9-a84d-f8ba978c237c",
   "metadata": {},
   "outputs": [
    {
     "name": "stdout",
     "output_type": "stream",
     "text": [
      "1\n",
      "2\n",
      "3\n",
      "4\n",
      "5\n"
     ]
    }
   ],
   "source": [
    "#break\n",
    "for i in range (1, 10):\n",
    "    if i == 6:\n",
    "        break \n",
    "    print(i)"
   ]
  },
  {
   "cell_type": "code",
   "execution_count": 20,
   "id": "4dc423a5-1af4-47de-b294-751ab054944c",
   "metadata": {},
   "outputs": [
    {
     "name": "stdout",
     "output_type": "stream",
     "text": [
      "1\n",
      "2\n",
      "3\n",
      "4\n",
      "5\n",
      "7\n",
      "8\n",
      "9\n"
     ]
    }
   ],
   "source": [
    "#continue\n",
    "for i in range(1, 10):\n",
    "    if i == 6:\n",
    "        continue\n",
    "    print(i)    "
   ]
  },
  {
   "cell_type": "code",
   "execution_count": 22,
   "id": "06f17abb-956b-49cb-a982-dc9c71cf3055",
   "metadata": {},
   "outputs": [
    {
     "name": "stdout",
     "output_type": "stream",
     "text": [
      "1 * 2 is 2\n",
      "2 * 2 is 4\n",
      "3 * 2 is 6\n",
      "4 * 2 is 8\n",
      "5 * 2 is 10\n",
      "6 * 2 is 12\n",
      "7 * 2 is 14\n",
      "8 * 2 is 16\n",
      "9 * 2 is 18\n",
      "10 * 2 is 20\n"
     ]
    }
   ],
   "source": [
    "for i in range (1,11):\n",
    "    print(i,\"* 2 is\",i*2)"
   ]
  },
  {
   "cell_type": "code",
   "execution_count": 23,
   "id": "ff7df769-2113-4942-8ea0-dca728133c99",
   "metadata": {},
   "outputs": [
    {
     "name": "stdout",
     "output_type": "stream",
     "text": [
      "k\n",
      "i\n",
      "n\n",
      "g\n",
      "k\n",
      "o\n",
      "n\n",
      "g\n"
     ]
    }
   ],
   "source": [
    "for i in (\"kingkong\"):\n",
    "    print(i)"
   ]
  },
  {
   "cell_type": "code",
   "execution_count": 27,
   "id": "65f3b465-6e8a-4035-8204-032c401e7eff",
   "metadata": {},
   "outputs": [
    {
     "name": "stdout",
     "output_type": "stream",
     "text": [
      "4\n",
      "5\n",
      "7\n"
     ]
    }
   ],
   "source": [
    "nums = [1, 2, 4, 5, 7]\n",
    "for num in nums:\n",
    "    if num <= 2:\n",
    "        continue\n",
    "    print(num)"
   ]
  },
  {
   "cell_type": "code",
   "execution_count": 29,
   "id": "f04a0fae-efc6-4f88-8f4d-54030a3f7a43",
   "metadata": {},
   "outputs": [
    {
     "name": "stdout",
     "output_type": "stream",
     "text": [
      "0 apple\n",
      "1 orange\n",
      "2 cherry\n"
     ]
    }
   ],
   "source": [
    "#index,value\n",
    "fruits = [\"apple\", \"orange\", \"cherry\"]\n",
    "for index, fruit in enumerate(fruits):\n",
    "    print(index,fruit)"
   ]
  },
  {
   "cell_type": "code",
   "execution_count": 34,
   "id": "415a1ecd-dc14-485d-979a-437444ff8793",
   "metadata": {},
   "outputs": [
    {
     "name": "stdout",
     "output_type": "stream",
     "text": [
      "kingkong scored 100\n",
      "koekoe scored 5\n",
      "karen scored 5\n"
     ]
    }
   ],
   "source": [
    "#zip\n",
    "names = [\"kingkong\", \"koekoe\", \"karen\"]\n",
    "scores = [100, 5, 5]\n",
    "for names, score in zip(names, scores):\n",
    "    print(f\"{names} scored {score}\")"
   ]
  },
  {
   "cell_type": "code",
   "execution_count": 35,
   "id": "5f456f4e-1595-43ee-b6bb-e3ac52c5f8ad",
   "metadata": {},
   "outputs": [
    {
     "name": "stdout",
     "output_type": "stream",
     "text": [
      "VKM have 26 tyres\n",
      "RAM have 26 tyres\n",
      "ANB have 24 tyres\n"
     ]
    }
   ],
   "source": [
    "trucks = [\"VKM\", \"RAM\", \"ANB\"]\n",
    "tyres = [26, 26, 24]\n",
    "for trucks, tyre in zip (trucks,tyres):\n",
    "    print(f\"{trucks} have {tyre} tyres\")"
   ]
  },
  {
   "cell_type": "code",
   "execution_count": 5,
   "id": "f73f8ac2-9baf-4dea-be8f-a0d4529203e0",
   "metadata": {},
   "outputs": [
    {
     "name": "stdin",
     "output_type": "stream",
     "text": [
      "type your name : king\n"
     ]
    },
    {
     "name": "stdout",
     "output_type": "stream",
     "text": [
      "Hello king\n"
     ]
    }
   ],
   "source": [
    "#def\n",
    "def greet(name):\n",
    "    return \"Hello \" + name\n",
    "\n",
    "result = greet(input(\"type your name :\"))\n",
    "print(result)"
   ]
  },
  {
   "cell_type": "code",
   "execution_count": null,
   "id": "270c55ec-0ca2-416f-8fc3-12d26a13ec8a",
   "metadata": {},
   "outputs": [],
   "source": []
  }
 ],
 "metadata": {
  "kernelspec": {
   "display_name": "Python 3 (ipykernel)",
   "language": "python",
   "name": "python3"
  },
  "language_info": {
   "codemirror_mode": {
    "name": "ipython",
    "version": 3
   },
   "file_extension": ".py",
   "mimetype": "text/x-python",
   "name": "python",
   "nbconvert_exporter": "python",
   "pygments_lexer": "ipython3",
   "version": "3.12.7"
  }
 },
 "nbformat": 4,
 "nbformat_minor": 5
}
