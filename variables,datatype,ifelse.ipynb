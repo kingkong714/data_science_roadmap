{
 "cells": [
  {
   "cell_type": "code",
   "execution_count": 1,
   "id": "ba4d5dca-a531-4322-afcd-b2dde8680aba",
   "metadata": {},
   "outputs": [
    {
     "name": "stdout",
     "output_type": "stream",
     "text": [
      "name:  kingkong\n",
      "age:  26\n",
      "height:  5.7\n",
      "is_male: True\n"
     ]
    }
   ],
   "source": [
    "#variable examples\n",
    "name = \"kingkong\" #string\n",
    "age = 26          #int\n",
    "height =5.7       #float\n",
    "is_male = True    #bool\n",
    "\n",
    "print(\"name: \", name)\n",
    "print(\"age: \", age)\n",
    "print(\"height: \", height)\n",
    "print(\"is_male:\", is_male)"
   ]
  },
  {
   "cell_type": "code",
   "execution_count": 2,
   "id": "0109b52f-74dc-4161-b975-59f7370b63e9",
   "metadata": {},
   "outputs": [
    {
     "name": "stdin",
     "output_type": "stream",
     "text": [
      "type your age:  30\n"
     ]
    },
    {
     "name": "stdout",
     "output_type": "stream",
     "text": [
      "your future_age is : 35\n"
     ]
    }
   ],
   "source": [
    "#input\n",
    "\n",
    "age = input(\"type your age: \")\n",
    "future_age = int(age)+ 5\n",
    "print(\"your future_age is :\",future_age )"
   ]
  },
  {
   "cell_type": "code",
   "execution_count": 3,
   "id": "e44d9ff8-92ed-45f5-a207-1fa382c8bf77",
   "metadata": {},
   "outputs": [
    {
     "name": "stdin",
     "output_type": "stream",
     "text": [
      "What is your name:  King\n"
     ]
    },
    {
     "name": "stdout",
     "output_type": "stream",
     "text": [
      "Nice to meet you  King\n"
     ]
    }
   ],
   "source": [
    "#greeting\n",
    "\n",
    "name = input(\"What is your name: \")\n",
    "print(\"Nice to meet you \",name)"
   ]
  },
  {
   "cell_type": "code",
   "execution_count": 4,
   "id": "4d8c2872-0a9e-46e5-9109-ded099b26f46",
   "metadata": {},
   "outputs": [
    {
     "name": "stdout",
     "output_type": "stream",
     "text": [
      "total 10\n"
     ]
    }
   ],
   "source": [
    "#calculate \n",
    "\n",
    "hours_per_day = 2\n",
    "day = 5\n",
    "total = hours_per_day * day\n",
    "print(\"total\",total)\n"
   ]
  },
  {
   "cell_type": "code",
   "execution_count": null,
   "id": "86116a44-297f-4496-9f54-6b5336143fa8",
   "metadata": {},
   "outputs": [],
   "source": []
  }
 ],
 "metadata": {
  "kernelspec": {
   "display_name": "Python 3 (ipykernel)",
   "language": "python",
   "name": "python3"
  },
  "language_info": {
   "codemirror_mode": {
    "name": "ipython",
    "version": 3
   },
   "file_extension": ".py",
   "mimetype": "text/x-python",
   "name": "python",
   "nbconvert_exporter": "python",
   "pygments_lexer": "ipython3",
   "version": "3.12.7"
  }
 },
 "nbformat": 4,
 "nbformat_minor": 5
}
